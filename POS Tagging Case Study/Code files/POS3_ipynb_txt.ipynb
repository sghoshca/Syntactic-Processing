{
  "cells": [
    {
      "cell_type": "markdown",
      "metadata": {
        "id": "jCy6Hw3LjXEz"
      },
      "source": [
        "## Importing libraries"
      ]
    },
    {
      "cell_type": "code",
      "execution_count": 2,
      "metadata": {},
      "outputs": [
        {
          "name": "stdout",
          "output_type": "stream",
          "text": [
            "Collecting spacy\n",
            "  Obtaining dependency information for spacy from https://files.pythonhosted.org/packages/61/08/f21d6f07a879cdfe284bc5bacfcf86c054866c24fe2e7c2e383d7a04421b/spacy-3.6.1-cp39-cp39-win_amd64.whl.metadata\n",
            "  Downloading spacy-3.6.1-cp39-cp39-win_amd64.whl.metadata (26 kB)\n",
            "Collecting spacy-legacy<3.1.0,>=3.0.11 (from spacy)\n",
            "  Downloading spacy_legacy-3.0.12-py2.py3-none-any.whl (29 kB)\n",
            "Collecting spacy-loggers<2.0.0,>=1.0.0 (from spacy)\n",
            "  Downloading spacy_loggers-1.0.4-py3-none-any.whl (11 kB)\n",
            "Collecting murmurhash<1.1.0,>=0.28.0 (from spacy)\n",
            "  Downloading murmurhash-1.0.9-cp39-cp39-win_amd64.whl (18 kB)\n",
            "Collecting cymem<2.1.0,>=2.0.2 (from spacy)\n",
            "  Downloading cymem-2.0.7-cp39-cp39-win_amd64.whl (30 kB)\n",
            "Collecting preshed<3.1.0,>=3.0.2 (from spacy)\n",
            "  Downloading preshed-3.0.8-cp39-cp39-win_amd64.whl (96 kB)\n",
            "     ---------------------------------------- 0.0/96.8 kB ? eta -:--:--\n",
            "     ---------------------------------------- 96.8/96.8 kB 5.4 MB/s eta 0:00:00\n",
            "Collecting thinc<8.2.0,>=8.1.8 (from spacy)\n",
            "  Obtaining dependency information for thinc<8.2.0,>=8.1.8 from https://files.pythonhosted.org/packages/68/89/532e8b45cd40ba92faf81e1089edfc0181b060dd3027f09681284b774ccd/thinc-8.1.12-cp39-cp39-win_amd64.whl.metadata\n",
            "  Downloading thinc-8.1.12-cp39-cp39-win_amd64.whl.metadata (15 kB)\n",
            "Collecting wasabi<1.2.0,>=0.9.1 (from spacy)\n",
            "  Obtaining dependency information for wasabi<1.2.0,>=0.9.1 from https://files.pythonhosted.org/packages/8f/69/26cbf0bad11703241cb84d5324d868097f7a8faf2f1888354dac8883f3fc/wasabi-1.1.2-py3-none-any.whl.metadata\n",
            "  Downloading wasabi-1.1.2-py3-none-any.whl.metadata (28 kB)\n",
            "Collecting srsly<3.0.0,>=2.4.3 (from spacy)\n",
            "  Obtaining dependency information for srsly<3.0.0,>=2.4.3 from https://files.pythonhosted.org/packages/a3/f3/31643982ebae1ed9458f433a56ab718607b22d779ebd11144d8fa521281b/srsly-2.4.7-cp39-cp39-win_amd64.whl.metadata\n",
            "  Downloading srsly-2.4.7-cp39-cp39-win_amd64.whl.metadata (20 kB)\n",
            "Collecting catalogue<2.1.0,>=2.0.6 (from spacy)\n",
            "  Obtaining dependency information for catalogue<2.1.0,>=2.0.6 from https://files.pythonhosted.org/packages/45/8f/5b73efc14e0373d9bb0de6ce1ab04a8f77420dc473f1f3ef270caf085cff/catalogue-2.0.9-py3-none-any.whl.metadata\n",
            "  Downloading catalogue-2.0.9-py3-none-any.whl.metadata (14 kB)\n",
            "Collecting typer<0.10.0,>=0.3.0 (from spacy)\n",
            "  Downloading typer-0.9.0-py3-none-any.whl (45 kB)\n",
            "     ---------------------------------------- 0.0/45.9 kB ? eta -:--:--\n",
            "     ---------------------------------------- 45.9/45.9 kB ? eta 0:00:00\n",
            "Collecting pathy>=0.10.0 (from spacy)\n",
            "  Obtaining dependency information for pathy>=0.10.0 from https://files.pythonhosted.org/packages/b5/c3/04a002ace658133f5ac48d30258ed9ceab720595dc1ac36df02fe52018af/pathy-0.10.2-py3-none-any.whl.metadata\n",
            "  Downloading pathy-0.10.2-py3-none-any.whl.metadata (16 kB)\n",
            "Requirement already satisfied: smart-open<7.0.0,>=5.2.1 in c:\\users\\ghosh\\anaconda3\\lib\\site-packages (from spacy) (5.2.1)\n",
            "Requirement already satisfied: tqdm<5.0.0,>=4.38.0 in c:\\users\\ghosh\\anaconda3\\lib\\site-packages (from spacy) (4.65.0)\n",
            "Requirement already satisfied: numpy>=1.15.0 in c:\\users\\ghosh\\anaconda3\\lib\\site-packages (from spacy) (1.24.3)\n",
            "Requirement already satisfied: requests<3.0.0,>=2.13.0 in c:\\users\\ghosh\\anaconda3\\lib\\site-packages (from spacy) (2.31.0)\n",
            "Collecting pydantic!=1.8,!=1.8.1,<3.0.0,>=1.7.4 (from spacy)\n",
            "  Obtaining dependency information for pydantic!=1.8,!=1.8.1,<3.0.0,>=1.7.4 from https://files.pythonhosted.org/packages/82/06/fafdc75e48b248eff364b4249af4bcc6952225e8f20e8205820afc66e88e/pydantic-2.3.0-py3-none-any.whl.metadata\n",
            "  Downloading pydantic-2.3.0-py3-none-any.whl.metadata (148 kB)\n",
            "     ---------------------------------------- 0.0/148.8 kB ? eta -:--:--\n",
            "     -------------------------------------- 148.8/148.8 kB 8.7 MB/s eta 0:00:00\n",
            "Requirement already satisfied: jinja2 in c:\\users\\ghosh\\anaconda3\\lib\\site-packages (from spacy) (2.11.3)\n",
            "Requirement already satisfied: setuptools in c:\\users\\ghosh\\anaconda3\\lib\\site-packages (from spacy) (68.0.0)\n",
            "Requirement already satisfied: packaging>=20.0 in c:\\users\\ghosh\\anaconda3\\lib\\site-packages (from spacy) (23.0)\n",
            "Collecting langcodes<4.0.0,>=3.2.0 (from spacy)\n",
            "  Downloading langcodes-3.3.0-py3-none-any.whl (181 kB)\n",
            "     ---------------------------------------- 0.0/181.6 kB ? eta -:--:--\n",
            "     ------------------------------------- 181.6/181.6 kB 10.7 MB/s eta 0:00:00\n",
            "Collecting annotated-types>=0.4.0 (from pydantic!=1.8,!=1.8.1,<3.0.0,>=1.7.4->spacy)\n",
            "  Obtaining dependency information for annotated-types>=0.4.0 from https://files.pythonhosted.org/packages/d8/f0/a2ee543a96cc624c35a9086f39b1ed2aa403c6d355dfe47a11ee5c64a164/annotated_types-0.5.0-py3-none-any.whl.metadata\n",
            "  Downloading annotated_types-0.5.0-py3-none-any.whl.metadata (11 kB)\n",
            "Collecting pydantic-core==2.6.3 (from pydantic!=1.8,!=1.8.1,<3.0.0,>=1.7.4->spacy)\n",
            "  Obtaining dependency information for pydantic-core==2.6.3 from https://files.pythonhosted.org/packages/15/e8/508c94592226d9ddf0696a54c9d3c03018842dedc734830de0affa9b0eef/pydantic_core-2.6.3-cp39-none-win_amd64.whl.metadata\n",
            "  Downloading pydantic_core-2.6.3-cp39-none-win_amd64.whl.metadata (6.6 kB)\n",
            "Requirement already satisfied: typing-extensions>=4.6.1 in c:\\users\\ghosh\\anaconda3\\lib\\site-packages (from pydantic!=1.8,!=1.8.1,<3.0.0,>=1.7.4->spacy) (4.7.1)\n",
            "Requirement already satisfied: charset-normalizer<4,>=2 in c:\\users\\ghosh\\anaconda3\\lib\\site-packages (from requests<3.0.0,>=2.13.0->spacy) (2.0.4)\n",
            "Requirement already satisfied: idna<4,>=2.5 in c:\\users\\ghosh\\anaconda3\\lib\\site-packages (from requests<3.0.0,>=2.13.0->spacy) (3.4)\n",
            "Requirement already satisfied: urllib3<3,>=1.21.1 in c:\\users\\ghosh\\anaconda3\\lib\\site-packages (from requests<3.0.0,>=2.13.0->spacy) (1.26.16)\n",
            "Requirement already satisfied: certifi>=2017.4.17 in c:\\users\\ghosh\\anaconda3\\lib\\site-packages (from requests<3.0.0,>=2.13.0->spacy) (2023.7.22)\n",
            "Collecting blis<0.8.0,>=0.7.8 (from thinc<8.2.0,>=8.1.8->spacy)\n",
            "  Obtaining dependency information for blis<0.8.0,>=0.7.8 from https://files.pythonhosted.org/packages/a1/cb/5b69b82b8a1eafc3056d2f0b3f04eb7426fb894436df8ef4afbe8360efa6/blis-0.7.10-cp39-cp39-win_amd64.whl.metadata\n",
            "  Downloading blis-0.7.10-cp39-cp39-win_amd64.whl.metadata (7.6 kB)\n",
            "Collecting confection<1.0.0,>=0.0.1 (from thinc<8.2.0,>=8.1.8->spacy)\n",
            "  Obtaining dependency information for confection<1.0.0,>=0.0.1 from https://files.pythonhosted.org/packages/ce/a3/21634c476fd55f06f5c31876985da59024fab75a537b0398aa4039e4e730/confection-0.1.2-py3-none-any.whl.metadata\n",
            "  Downloading confection-0.1.2-py3-none-any.whl.metadata (19 kB)\n",
            "Requirement already satisfied: colorama in c:\\users\\ghosh\\anaconda3\\lib\\site-packages (from tqdm<5.0.0,>=4.38.0->spacy) (0.4.6)\n",
            "Requirement already satisfied: click<9.0.0,>=7.1.1 in c:\\users\\ghosh\\anaconda3\\lib\\site-packages (from typer<0.10.0,>=0.3.0->spacy) (8.0.4)\n",
            "Requirement already satisfied: MarkupSafe>=0.23 in c:\\users\\ghosh\\anaconda3\\lib\\site-packages (from jinja2->spacy) (2.0.1)\n",
            "Downloading spacy-3.6.1-cp39-cp39-win_amd64.whl (12.1 MB)\n",
            "   ---------------------------------------- 0.0/12.1 MB ? eta -:--:--\n",
            "   ------ --------------------------------- 2.0/12.1 MB 42.3 MB/s eta 0:00:01\n",
            "   -------------- ------------------------- 4.3/12.1 MB 46.1 MB/s eta 0:00:01\n",
            "   ------------------------ --------------- 7.3/12.1 MB 52.3 MB/s eta 0:00:01\n",
            "   -------------------------------- ------- 9.8/12.1 MB 52.3 MB/s eta 0:00:01\n",
            "   ---------------------------------------  12.1/12.1 MB 59.5 MB/s eta 0:00:01\n",
            "   ---------------------------------------  12.1/12.1 MB 59.5 MB/s eta 0:00:01\n",
            "   ---------------------------------------- 12.1/12.1 MB 40.9 MB/s eta 0:00:00\n",
            "Downloading catalogue-2.0.9-py3-none-any.whl (17 kB)\n",
            "Downloading pathy-0.10.2-py3-none-any.whl (48 kB)\n",
            "   ---------------------------------------- 0.0/48.9 kB ? eta -:--:--\n",
            "   ---------------------------------------- 48.9/48.9 kB 2.6 MB/s eta 0:00:00\n",
            "Downloading pydantic-2.3.0-py3-none-any.whl (374 kB)\n",
            "   ---------------------------------------- 0.0/374.5 kB ? eta -:--:--\n",
            "   --------------------------------------- 374.5/374.5 kB 24.3 MB/s eta 0:00:00\n",
            "Downloading pydantic_core-2.6.3-cp39-none-win_amd64.whl (1.7 MB)\n",
            "   ---------------------------------------- 0.0/1.7 MB ? eta -:--:--\n",
            "   ---------------------------------------- 1.7/1.7 MB 36.9 MB/s eta 0:00:00\n",
            "Downloading srsly-2.4.7-cp39-cp39-win_amd64.whl (483 kB)\n",
            "   ---------------------------------------- 0.0/483.6 kB ? eta -:--:--\n",
            "   --------------------------------------- 483.6/483.6 kB 15.3 MB/s eta 0:00:00\n",
            "Downloading thinc-8.1.12-cp39-cp39-win_amd64.whl (1.5 MB)\n",
            "   ---------------------------------------- 0.0/1.5 MB ? eta -:--:--\n",
            "   ---------------------------------------- 1.5/1.5 MB 31.4 MB/s eta 0:00:00\n",
            "Downloading wasabi-1.1.2-py3-none-any.whl (27 kB)\n",
            "Downloading annotated_types-0.5.0-py3-none-any.whl (11 kB)\n",
            "Downloading blis-0.7.10-cp39-cp39-win_amd64.whl (7.4 MB)\n",
            "   ---------------------------------------- 0.0/7.4 MB ? eta -:--:--\n",
            "   ------------- -------------------------- 2.5/7.4 MB 53.2 MB/s eta 0:00:01\n",
            "   ------------------ --------------------- 3.5/7.4 MB 37.0 MB/s eta 0:00:01\n",
            "   ------------------------------ --------- 5.7/7.4 MB 40.4 MB/s eta 0:00:01\n",
            "   ---------------------------------------  7.4/7.4 MB 43.0 MB/s eta 0:00:01\n",
            "   ---------------------------------------  7.4/7.4 MB 43.0 MB/s eta 0:00:01\n",
            "   ---------------------------------------- 7.4/7.4 MB 29.6 MB/s eta 0:00:00\n",
            "Downloading confection-0.1.2-py3-none-any.whl (34 kB)\n",
            "Installing collected packages: cymem, wasabi, spacy-loggers, spacy-legacy, pydantic-core, murmurhash, langcodes, catalogue, blis, annotated-types, typer, srsly, pydantic, preshed, pathy, confection, thinc, spacy\n",
            "Successfully installed annotated-types-0.5.0 blis-0.7.10 catalogue-2.0.9 confection-0.1.2 cymem-2.0.7 langcodes-3.3.0 murmurhash-1.0.9 pathy-0.10.2 preshed-3.0.8 pydantic-2.3.0 pydantic-core-2.6.3 spacy-3.6.1 spacy-legacy-3.0.12 spacy-loggers-1.0.4 srsly-2.4.7 thinc-8.1.12 typer-0.9.0 wasabi-1.1.2\n",
            "Note: you may need to restart the kernel to use updated packages.\n"
          ]
        }
      ],
      "source": [
        "pip install spacy"
      ]
    },
    {
      "cell_type": "code",
      "execution_count": null,
      "metadata": {},
      "outputs": [],
      "source": []
    },
    {
      "cell_type": "code",
      "execution_count": 1,
      "metadata": {
        "id": "MBorzfsNjXE0"
      },
      "outputs": [],
      "source": [
        "import pandas as pd\n",
        "import numpy as np\n",
        "import os\n",
        "import spacy \n",
        "from tqdm import tqdm"
      ]
    },
    {
      "cell_type": "markdown",
      "metadata": {
        "id": "gjlVHS9yjXE1"
      },
      "source": [
        "### Read reviews data"
      ]
    },
    {
      "cell_type": "code",
      "execution_count": 2,
      "metadata": {
        "id": "unZvzHyPjXE2"
      },
      "outputs": [],
      "source": [
        "con=open(\"../Dataset/Samsung.txt\",'r', encoding=\"utf-8\")\n",
        "samsung_reviews=con.read()\n",
        "con.close()"
      ]
    },
    {
      "cell_type": "markdown",
      "metadata": {
        "id": "-Xp3V0sijXE4"
      },
      "source": [
        "### Can we reduce the time taken?\n",
        "[Pipelines (Spacy)](https://spacy.io/usage/processing-pipelines)\n"
      ]
    },
    {
      "cell_type": "markdown",
      "metadata": {
        "id": "hcz71QGCjXE5"
      },
      "source": [
        "<img src='./images/spacy_pipeline.png'>"
      ]
    },
    {
      "cell_type": "code",
      "execution_count": 3,
      "metadata": {
        "id": "fStfPPgCjXE6"
      },
      "outputs": [
        {
          "ename": "OSError",
          "evalue": "[E050] Can't find model 'en_core_web_sm'. It doesn't seem to be a Python package or a valid path to a data directory.",
          "output_type": "error",
          "traceback": [
            "\u001b[1;31m---------------------------------------------------------------------------\u001b[0m",
            "\u001b[1;31mOSError\u001b[0m                                   Traceback (most recent call last)",
            "Cell \u001b[1;32mIn[3], line 2\u001b[0m\n\u001b[0;32m      1\u001b[0m \u001b[39m# shorten the pipline loading\u001b[39;00m\n\u001b[1;32m----> 2\u001b[0m nlp\u001b[39m=\u001b[39mspacy\u001b[39m.\u001b[39;49mload(\u001b[39m'\u001b[39;49m\u001b[39men_core_web_sm\u001b[39;49m\u001b[39m'\u001b[39;49m, disable\u001b[39m=\u001b[39;49m[\u001b[39m'\u001b[39;49m\u001b[39mparser\u001b[39;49m\u001b[39m'\u001b[39;49m,\u001b[39m'\u001b[39;49m\u001b[39mner\u001b[39;49m\u001b[39m'\u001b[39;49m])\n",
            "File \u001b[1;32mc:\\Users\\ghosh\\anaconda3\\lib\\site-packages\\spacy\\__init__.py:51\u001b[0m, in \u001b[0;36mload\u001b[1;34m(name, vocab, disable, enable, exclude, config)\u001b[0m\n\u001b[0;32m     27\u001b[0m \u001b[39mdef\u001b[39;00m \u001b[39mload\u001b[39m(\n\u001b[0;32m     28\u001b[0m     name: Union[\u001b[39mstr\u001b[39m, Path],\n\u001b[0;32m     29\u001b[0m     \u001b[39m*\u001b[39m,\n\u001b[1;32m   (...)\u001b[0m\n\u001b[0;32m     34\u001b[0m     config: Union[Dict[\u001b[39mstr\u001b[39m, Any], Config] \u001b[39m=\u001b[39m util\u001b[39m.\u001b[39mSimpleFrozenDict(),\n\u001b[0;32m     35\u001b[0m ) \u001b[39m-\u001b[39m\u001b[39m>\u001b[39m Language:\n\u001b[0;32m     36\u001b[0m \u001b[39m    \u001b[39m\u001b[39m\"\"\"Load a spaCy model from an installed package or a local path.\u001b[39;00m\n\u001b[0;32m     37\u001b[0m \n\u001b[0;32m     38\u001b[0m \u001b[39m    name (str): Package name or model path.\u001b[39;00m\n\u001b[1;32m   (...)\u001b[0m\n\u001b[0;32m     49\u001b[0m \u001b[39m    RETURNS (Language): The loaded nlp object.\u001b[39;00m\n\u001b[0;32m     50\u001b[0m \u001b[39m    \"\"\"\u001b[39;00m\n\u001b[1;32m---> 51\u001b[0m     \u001b[39mreturn\u001b[39;00m util\u001b[39m.\u001b[39;49mload_model(\n\u001b[0;32m     52\u001b[0m         name,\n\u001b[0;32m     53\u001b[0m         vocab\u001b[39m=\u001b[39;49mvocab,\n\u001b[0;32m     54\u001b[0m         disable\u001b[39m=\u001b[39;49mdisable,\n\u001b[0;32m     55\u001b[0m         enable\u001b[39m=\u001b[39;49menable,\n\u001b[0;32m     56\u001b[0m         exclude\u001b[39m=\u001b[39;49mexclude,\n\u001b[0;32m     57\u001b[0m         config\u001b[39m=\u001b[39;49mconfig,\n\u001b[0;32m     58\u001b[0m     )\n",
            "File \u001b[1;32mc:\\Users\\ghosh\\anaconda3\\lib\\site-packages\\spacy\\util.py:472\u001b[0m, in \u001b[0;36mload_model\u001b[1;34m(name, vocab, disable, enable, exclude, config)\u001b[0m\n\u001b[0;32m    470\u001b[0m \u001b[39mif\u001b[39;00m name \u001b[39min\u001b[39;00m OLD_MODEL_SHORTCUTS:\n\u001b[0;32m    471\u001b[0m     \u001b[39mraise\u001b[39;00m \u001b[39mIOError\u001b[39;00m(Errors\u001b[39m.\u001b[39mE941\u001b[39m.\u001b[39mformat(name\u001b[39m=\u001b[39mname, full\u001b[39m=\u001b[39mOLD_MODEL_SHORTCUTS[name]))  \u001b[39m# type: ignore[index]\u001b[39;00m\n\u001b[1;32m--> 472\u001b[0m \u001b[39mraise\u001b[39;00m \u001b[39mIOError\u001b[39;00m(Errors\u001b[39m.\u001b[39mE050\u001b[39m.\u001b[39mformat(name\u001b[39m=\u001b[39mname))\n",
            "\u001b[1;31mOSError\u001b[0m: [E050] Can't find model 'en_core_web_sm'. It doesn't seem to be a Python package or a valid path to a data directory."
          ]
        }
      ],
      "source": [
        "# shorten the pipline loading\n",
        "nlp=spacy.load('en_core_web_sm', disable=['parser','ner'])"
      ]
    },
    {
      "cell_type": "code",
      "execution_count": null,
      "metadata": {
        "id": "dx3Ylbe5jXE6",
        "outputId": "2c44d403-1088-4268-f062-98bf412fbab7"
      },
      "outputs": [
        {
          "name": "stderr",
          "output_type": "stream",
          "text": [
            "100%|██████████| 1000/1000 [00:06<00:00, 148.24it/s]\n"
          ]
        }
      ],
      "source": [
        "nouns = []\n",
        "for review in tqdm(samsung_reviews.split(\"\\n\")[0:1000]):\n",
        "    doc = nlp(review)\n",
        "    for tok in doc:\n",
        "        if tok.pos_==\"NOUN\":\n",
        "            nouns.append(tok.lemma_.lower())"
      ]
    },
    {
      "cell_type": "code",
      "execution_count": null,
      "metadata": {
        "id": "2KmwyyX-jXE8"
      },
      "outputs": [],
      "source": [
        "len(samsung_reviews.split(\"\\n\"))"
      ]
    },
    {
      "cell_type": "code",
      "execution_count": null,
      "metadata": {
        "id": "XUf8-pG1jXE9",
        "outputId": "288bda64-52b2-48dc-ce1d-bcecf596c39f"
      },
      "outputs": [
        {
          "data": {
            "text/plain": [
              "278.13"
            ]
          },
          "execution_count": 5,
          "metadata": {
            "tags": []
          },
          "output_type": "execute_result"
        }
      ],
      "source": [
        "(46355/1000)*6"
      ]
    },
    {
      "cell_type": "code",
      "execution_count": null,
      "metadata": {
        "id": "nX83oQevjXE9",
        "outputId": "095ef791-0bd5-4310-dc03-00fba9af3a33"
      },
      "outputs": [
        {
          "data": {
            "text/plain": [
              "4.633333333333334"
            ]
          },
          "execution_count": 6,
          "metadata": {
            "tags": []
          },
          "output_type": "execute_result"
        }
      ],
      "source": [
        "278/60"
      ]
    },
    {
      "cell_type": "markdown",
      "metadata": {
        "id": "-qZDcM2njXE-"
      },
      "source": [
        "### Lets process all the reviews now and see if time taken is less !!!"
      ]
    },
    {
      "cell_type": "code",
      "execution_count": null,
      "metadata": {
        "id": "KiftxQmcjXE-",
        "outputId": "1f035757-c703-4fd5-fc25-14b99efeca8f"
      },
      "outputs": [
        {
          "name": "stderr",
          "output_type": "stream",
          "text": [
            "100%|██████████| 46355/46355 [04:27<00:00, 173.42it/s]\n"
          ]
        }
      ],
      "source": [
        "nouns = []\n",
        "for review in tqdm(samsung_reviews.split(\"\\n\")):\n",
        "    doc = nlp(review)\n",
        "    for tok in doc:\n",
        "        if tok.pos_==\"NOUN\":\n",
        "            nouns.append(tok.lemma_.lower())"
      ]
    },
    {
      "cell_type": "markdown",
      "metadata": {
        "id": "4tDq-KDOjXE_"
      },
      "source": [
        "### Does the hypothesis of nouns capturing `product features` hold?"
      ]
    },
    {
      "cell_type": "code",
      "execution_count": null,
      "metadata": {
        "id": "f_9BsBMvjXFA",
        "outputId": "04060afd-fb64-4c84-e55f-eaba0cc85446"
      },
      "outputs": [
        {
          "data": {
            "text/plain": [
              "phone      43237\n",
              "battery     4350\n",
              "product     3907\n",
              "time        3825\n",
              "screen      3746\n",
              "dtype: int64"
            ]
          },
          "execution_count": 8,
          "metadata": {
            "tags": []
          },
          "output_type": "execute_result"
        }
      ],
      "source": [
        "nouns=pd.Series(nouns)\n",
        "nouns.value_counts().head(5)"
      ]
    },
    {
      "cell_type": "code",
      "execution_count": null,
      "metadata": {
        "id": "7g33CJOXjXFA",
        "outputId": "525c082f-6d7e-4755-997f-13d2b8cddfb9"
      },
      "outputs": [
        {
          "data": {
            "text/plain": [
              "phone      43237\n",
              "battery     4350\n",
              "product     3907\n",
              "time        3825\n",
              "screen      3746\n",
              "card        3399\n",
              "price       3148\n",
              "problem     3120\n",
              "camera      2773\n",
              "app         2606\n",
              "dtype: int64"
            ]
          },
          "execution_count": 9,
          "metadata": {
            "tags": []
          },
          "output_type": "execute_result"
        }
      ],
      "source": [
        "nouns.value_counts().head(10)"
      ]
    },
    {
      "cell_type": "markdown",
      "metadata": {
        "id": "qlp6FvUMjXFB"
      },
      "source": [
        "### We now know that people mention `battery`, `product`, `screen` etc. But we still don't know in what context they mention these keywords"
      ]
    },
    {
      "cell_type": "markdown",
      "metadata": {
        "id": "zurzvf_tjXFB"
      },
      "source": [
        "### Summary:\n",
        " - Most frequently used lemmatised forms of noun, inform us about the product features people are talking about in product reviews\n",
        " - In order to process the review data faster spacy allows us to use the idea of enabling parts of model inference pipeline via `spacy.loads()` command and `disable` parameter"
      ]
    },
    {
      "cell_type": "code",
      "execution_count": null,
      "metadata": {
        "id": "qmCWc_9vjXFC"
      },
      "outputs": [],
      "source": []
    }
  ],
  "metadata": {
    "colab": {
      "name": "POS3.ipynb.txt",
      "provenance": []
    },
    "kernelspec": {
      "display_name": "Python 3",
      "language": "python",
      "name": "python3"
    },
    "language_info": {
      "codemirror_mode": {
        "name": "ipython",
        "version": 3
      },
      "file_extension": ".py",
      "mimetype": "text/x-python",
      "name": "python",
      "nbconvert_exporter": "python",
      "pygments_lexer": "ipython3",
      "version": "3.9.13"
    }
  },
  "nbformat": 4,
  "nbformat_minor": 0
}
