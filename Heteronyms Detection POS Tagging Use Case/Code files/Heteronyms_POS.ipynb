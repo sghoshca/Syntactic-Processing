{
  "cells": [
    {
      "cell_type": "markdown",
      "metadata": {
        "id": "C5jJ9kQzPjge"
      },
      "source": [
        "**Heteronyms** are the words that have same spelling but mean different things when pronounced differently. \n",
        "\n",
        "\n",
        "- Recall the word *lead* from the lectures. It can refer to the metal lead or the act of leadership. The two pronounciations have different meanings.\n",
        "\n",
        "- For machine translation systems or text to speech systems, the ability to identify the correct sense of the word is crucial.\n",
        "\n",
        "\n"
      ]
    },
    {
      "cell_type": "markdown",
      "metadata": {
        "id": "sHvYVoL7i7_a"
      },
      "source": [
        "Let us have a look at this example:\n",
        "\n",
        "https://translate.google.com/?sl=en&tl=hi&text=She%20wished%20she%20could%20desert%20him%20in%20the%20desert.%0A&op=translate\n",
        "\n",
        "Example taken from: http://www-personal.umich.edu/~cellis/heteronym.html\n"
      ]
    },
    {
      "cell_type": "code",
      "execution_count": null,
      "metadata": {
        "id": "foKQ_tmOEca0"
      },
      "outputs": [],
      "source": [
        "# Import SpaCy library\n",
        "import spacy "
      ]
    },
    {
      "cell_type": "code",
      "execution_count": null,
      "metadata": {
        "id": "YRtKtXi9kC72"
      },
      "outputs": [],
      "source": [
        "# Load pre-trained SpaCy model for performing basic \n",
        "# NLP tasks such as POS tagging, parsing, etc.\n",
        "model = spacy.load(\"en_core_web_sm\")"
      ]
    },
    {
      "cell_type": "code",
      "execution_count": null,
      "metadata": {
        "id": "yjtQ_cgdk3pn"
      },
      "outputs": [],
      "source": [
        "#Use the model to process the input sentence\n",
        "tokens = model(\"She wished she could desert him in the desert.\")"
      ]
    },
    {
      "cell_type": "code",
      "execution_count": null,
      "metadata": {
        "colab": {
          "base_uri": "https://localhost:8080/"
        },
        "id": "gXtwtkrflcPF",
        "outputId": "a7c216e9-f1e9-4631-a382-18ef367dfe4d"
      },
      "outputs": [
        {
          "name": "stdout",
          "output_type": "stream",
          "text": [
            "She -- PRON -- PRP\n",
            "wished -- VERB -- VBD\n",
            "she -- PRON -- PRP\n",
            "could -- VERB -- MD\n",
            "desert -- VERB -- VB\n",
            "him -- PRON -- PRP\n",
            "in -- ADP -- IN\n",
            "the -- DET -- DT\n",
            "desert -- NOUN -- NN\n",
            ". -- PUNCT -- .\n"
          ]
        }
      ],
      "source": [
        "# Print the tokens and their respective PoS tags.\n",
        "for token in tokens:\n",
        "    print(token.text, \"--\", token.pos_, \"--\", token.tag_)"
      ]
    },
    {
      "cell_type": "markdown",
      "metadata": {
        "id": "G5YMNqqF-sHl"
      },
      "source": [
        "Note here that in the above example, the two instances of *desert* have different PoS tags and hence, the text to speech system can use this information to generate the correct pronounciation. \n",
        "\n",
        "The above task is a specific example of the larger NLP problem called Word Sense Disambiguation (WSD). For words that have more than one meaning, WSD is the problem of identifying the correct meaning of the word based on the context in which the word is used.\n",
        "\n"
      ]
    },
    {
      "cell_type": "markdown",
      "metadata": {
        "id": "gJMNHvrRx-rA"
      },
      "source": [
        "Note that this technique will not work when the different meanings have the same PoS tags.\n",
        "\n",
        "https://translate.google.com/?sl=en&tl=hi&text=The%20bass%20swam%20around%20the%20bass%20drum%20on%20the%20ocean%20floor.&op=translate"
      ]
    },
    {
      "cell_type": "code",
      "execution_count": null,
      "metadata": {
        "colab": {
          "base_uri": "https://localhost:8080/"
        },
        "id": "Xd8l1zfNmgQz",
        "outputId": "498b23e2-37c3-4269-e6b2-4b8def4f319c"
      },
      "outputs": [
        {
          "name": "stdout",
          "output_type": "stream",
          "text": [
            "The -- DET -- DT\n",
            "bass -- NOUN -- NN\n",
            "swam -- PROPN -- NNP\n",
            "around -- ADP -- IN\n",
            "the -- DET -- DT\n",
            "bass -- NOUN -- NN\n",
            "drum -- NOUN -- NN\n",
            "on -- ADP -- IN\n",
            "the -- DET -- DT\n",
            "ocean -- NOUN -- NN\n",
            "floor -- NOUN -- NN\n"
          ]
        }
      ],
      "source": [
        "# Let's take a new example.\n",
        "tokens = model(\"The bass swam around the bass drum on the ocean floor\")\n",
        "for token in tokens:\n",
        "    print(token.text, \"--\", token.pos_, \"--\", token.tag_)"
      ]
    },
    {
      "cell_type": "code",
      "execution_count": 1,
      "metadata": {
        "id": "3IHqXulWJYVj"
      },
      "outputs": [
        {
          "name": "stdout",
          "output_type": "stream",
          "text": [
            "Apple -- PROPN -- NNP\n",
            "is -- AUX -- VBZ\n",
            "looking -- VERB -- VBG\n",
            "at -- ADP -- IN\n",
            "buying -- VERB -- VBG\n",
            "UK -- PROPN -- NNP\n",
            "- -- PUNCT -- HYPH\n",
            "based -- VERB -- VBN\n",
            "start -- NOUN -- NN\n",
            "- -- PUNCT -- HYPH\n",
            "up -- NOUN -- NN\n",
            "for -- ADP -- IN\n",
            "$ -- SYM -- $\n",
            "1 -- NUM -- CD\n",
            "billion -- NUM -- CD\n",
            ". -- PUNCT -- .\n"
          ]
        }
      ],
      "source": [
        "#import library\n",
        "import spacy\n",
        " \n",
        "# built the model\n",
        "model = spacy.load(\"en_core_web_sm\")\n",
        " \n",
        "#Use the model to process the input sentence\n",
        "tokens = model(\"Apple is looking at buying UK-based start-up for $1 billion.\")\n",
        " \n",
        "# Print the tokens and their respective PoS tags.\n",
        "for token in tokens:\n",
        "    print(token.text, \"--\", token.pos_, \"--\", token.tag_)"
      ]
    }
  ],
  "metadata": {
    "colab": {
      "collapsed_sections": [],
      "name": "Heteronyms_POS.ipynb",
      "provenance": []
    },
    "kernelspec": {
      "display_name": "Python 3",
      "name": "python3"
    },
    "language_info": {
      "codemirror_mode": {
        "name": "ipython",
        "version": 3
      },
      "file_extension": ".py",
      "mimetype": "text/x-python",
      "name": "python",
      "nbconvert_exporter": "python",
      "pygments_lexer": "ipython3",
      "version": "3.11.7"
    }
  },
  "nbformat": 4,
  "nbformat_minor": 0
}
